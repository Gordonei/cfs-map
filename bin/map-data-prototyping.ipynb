{
 "cells": [
  {
   "cell_type": "markdown",
   "metadata": {},
   "source": [
    "# Map Data Prototyping"
   ]
  },
  {
   "cell_type": "markdown",
   "metadata": {},
   "source": [
    "## Setup"
   ]
  },
  {
   "cell_type": "code",
   "execution_count": null,
   "metadata": {},
   "outputs": [],
   "source": [
    "import io\n",
    "import json\n",
    "import os\n",
    "import time"
   ]
  },
  {
   "cell_type": "code",
   "execution_count": null,
   "metadata": {},
   "outputs": [],
   "source": [
    "import pandas\n",
    "import geocoder\n",
    "import folium\n",
    "import folium.plugins\n",
    "from tqdm.auto import tqdm\n",
    "import requests\n",
    "import boto3\n",
    "import numpy"
   ]
  },
  {
   "cell_type": "code",
   "execution_count": null,
   "metadata": {},
   "outputs": [],
   "source": [
    "tqdm.pandas()"
   ]
  },
  {
   "cell_type": "markdown",
   "metadata": {},
   "source": [
    "## Reading Data"
   ]
  },
  {
   "cell_type": "code",
   "execution_count": null,
   "metadata": {},
   "outputs": [],
   "source": [
    "config = json.load(open(\"../creds/config.json\"))"
   ]
  },
  {
   "cell_type": "code",
   "execution_count": null,
   "metadata": {},
   "outputs": [],
   "source": [
    "object_name = config[\"data_object_name\"]\n",
    "bucket_name = config[\"data_bucket_name\"]\n",
    "s3_url = f\"s3://{bucket_name}/{object_name}\""
   ]
  },
  {
   "cell_type": "code",
   "execution_count": null,
   "metadata": {},
   "outputs": [],
   "source": [
    "s3 = boto3.client(\"s3\")\n",
    "s3_obj = s3.get_object(Bucket=bucket_name, Key=object_name)"
   ]
  },
  {
   "cell_type": "code",
   "execution_count": null,
   "metadata": {},
   "outputs": [],
   "source": [
    "data_df = pandas.read_parquet(io.BytesIO(s3_obj['Body'].read()))"
   ]
  },
  {
   "cell_type": "code",
   "execution_count": null,
   "metadata": {},
   "outputs": [],
   "source": [
    "data_df.columns"
   ]
  },
  {
   "cell_type": "markdown",
   "metadata": {},
   "source": [
    "## Geocoding"
   ]
  },
  {
   "cell_type": "markdown",
   "metadata": {},
   "source": [
    "Doing this on a location basis, as this is more efficient that working on the data more directly."
   ]
  },
  {
   "cell_type": "code",
   "execution_count": null,
   "metadata": {},
   "outputs": [],
   "source": [
    "data_df[\"Master 1 Location\"].value_counts()"
   ]
  },
  {
   "cell_type": "code",
   "execution_count": null,
   "metadata": {},
   "outputs": [],
   "source": [
    "data_df[\"Master 1 Location Override\"].value_counts()"
   ]
  },
  {
   "cell_type": "code",
   "execution_count": null,
   "metadata": {},
   "outputs": [],
   "source": [
    "locations = (\n",
    "    set(data_df[\"Master 1 Location\"].unique()) | \n",
    "    set(data_df[\"Master 1 Location Override\"].unique())\n",
    ")"
   ]
  },
  {
   "cell_type": "markdown",
   "metadata": {},
   "source": [
    "Using two, free-to-access geocoding services, namely OSM and ArcGIS (isn't ESRI nice?)."
   ]
  },
  {
   "cell_type": "code",
   "execution_count": null,
   "metadata": {},
   "outputs": [],
   "source": [
    "#za_geo_bounds = ((16.3449768409, -34.8191663551), (32.830120477, -22.0913127581))\n",
    "cape_geo_bounds = [[16, -35.077], [30, -30]]"
   ]
  },
  {
   "cell_type": "code",
   "execution_count": null,
   "metadata": {},
   "outputs": [],
   "source": [
    "def lookup_loc(gc, gc_session, loc_string, bounds):\n",
    "    time.sleep(0.1)\n",
    "    new_loc = gc(loc_string, session=gc_session, timeout=10)\n",
    "    \n",
    "    if new_loc.ok and ((bounds[0][0] <= new_loc.x <= bounds[1][0]) and \n",
    "                       (bounds[0][1] <= new_loc.y <= bounds[1][1])):\n",
    "        return new_loc\n",
    "    else:\n",
    "        return None"
   ]
  },
  {
   "cell_type": "code",
   "execution_count": null,
   "metadata": {
    "scrolled": true
   },
   "outputs": [],
   "source": [
    "location_lookup = {}\n",
    "\n",
    "with requests.Session() as osm_session, requests.Session() as ag_session:\n",
    "    for loc in tqdm(locations, desc=\"Place Lookup\"):\n",
    "        if loc not in {None, '', 'None'}:\n",
    "            for gc, session in ((geocoder.arcgis, ag_session),\n",
    "                                (geocoder.osm, osm_session), \n",
    "                                ):\n",
    "                loc_string = loc.strip()\n",
    "                current_loc = location_lookup.get(loc, None)\n",
    "                new_loc = current_loc\n",
    "                # First, try geocoding the straight string\n",
    "                if new_loc is None:\n",
    "                    new_loc = lookup_loc(gc, session, loc_string, cape_geo_bounds)\n",
    "                    \n",
    "                # Try titled version\n",
    "                if new_loc is None and loc_string != loc_string.title():\n",
    "                    new_loc = lookup_loc(gc, session, loc_string.title(), cape_geo_bounds)\n",
    "                    \n",
    "                # Next, try with \", South Africa\"\n",
    "                if new_loc is None and \"South Africa\" not in loc_string:\n",
    "                    new_loc_string = f\"{loc_string}, South Africa\"\n",
    "                    new_loc = lookup_loc(gc, session, new_loc_string, cape_geo_bounds)\n",
    "                    \n",
    "                # Yay, location updated\n",
    "                if new_loc is not None:\n",
    "                    location_lookup[loc] = new_loc\n",
    "            \n",
    "            if loc not in location_lookup:\n",
    "                print(f\"lookup for '{loc}' failed...\")"
   ]
  },
  {
   "cell_type": "code",
   "execution_count": null,
   "metadata": {},
   "outputs": [],
   "source": [
    "data_df[\"Master1Location\"] = data_df[\"Master 1 Location\"].progress_apply(\n",
    "    lambda loc: location_lookup.get(loc, None)\n",
    ")"
   ]
  },
  {
   "cell_type": "code",
   "execution_count": null,
   "metadata": {},
   "outputs": [],
   "source": [
    "override_locations = data_df[\"Master 1 Location Override\"].progress_apply(\n",
    "    lambda loc: location_lookup.get(loc, None)\n",
    ")\n",
    "\n",
    "data_df.Master1Location = override_locations.where(\n",
    "    override_locations.notna(),\n",
    "    data_df.Master1Location\n",
    ")"
   ]
  },
  {
   "cell_type": "markdown",
   "metadata": {},
   "source": [
    "Check to see how we're doing:"
   ]
  },
  {
   "cell_type": "code",
   "execution_count": null,
   "metadata": {},
   "outputs": [],
   "source": [
    "\"{:.2%}\".format(data_df.Master1Location.notna().sum()/data_df.Master1Location.shape[0])"
   ]
  },
  {
   "cell_type": "markdown",
   "metadata": {},
   "source": [
    "## Map Time"
   ]
  },
  {
   "cell_type": "markdown",
   "metadata": {},
   "source": [
    "### Map Setup"
   ]
  },
  {
   "cell_type": "code",
   "execution_count": null,
   "metadata": {},
   "outputs": [],
   "source": [
    "m = folium.Map(\n",
    "    location=[-32, 24],\n",
    "    tiles=None,\n",
    "    attr=\"Me!\",\n",
    "    starting_zoom=4,\n",
    "    min_zoom=4,\n",
    "    #max_zoom=10,\n",
    ")"
   ]
  },
  {
   "cell_type": "markdown",
   "metadata": {},
   "source": [
    "Used maptiler software to convert scan of 19th Century Cape map into Tile server files.\n",
    "\n",
    "Use [this site](https://epsg.io/transform#s_srs=4326&t_srs=3857&x=16.0000000&y=-35.0770000) to convert map bounds "
   ]
  },
  {
   "cell_type": "code",
   "execution_count": null,
   "metadata": {},
   "outputs": [],
   "source": [
    "folium.TileLayer(\n",
    "    #\"file:///home/gordon/workspace/cfs-map/resources/cfs-map-tiles4/{z}/{x}/{y}.png\",\n",
    "    'https://cfs-map-output.s3-eu-west-1.amazonaws.com/cfs-map-tiles/{z}/{x}/{y}.png', \n",
    "    attr=\"Me!\",\n",
    "    name='19th Century Cape',\n",
    "    min_zoom=4,\n",
    "    #max_zoom=8,\n",
    "    #max_native_zoom=8\n",
    ").add_to(m)"
   ]
  },
  {
   "cell_type": "code",
   "execution_count": null,
   "metadata": {},
   "outputs": [],
   "source": [
    "folium.TileLayer(\n",
    "    'CartoDB positron',\n",
    "    name='Modern Map',\n",
    "    #min_zoom=8\n",
    ").add_to(m)"
   ]
  },
  {
   "cell_type": "markdown",
   "metadata": {},
   "source": [
    "### Individual Markers"
   ]
  },
  {
   "cell_type": "markdown",
   "metadata": {},
   "source": [
    "Going to use marker clusters for now..."
   ]
  },
  {
   "cell_type": "code",
   "execution_count": null,
   "metadata": {},
   "outputs": [],
   "source": [
    "# markers = data_df[\n",
    "#     data_df.Master1Location.notna() & (data_df.Gender == \"M\")\n",
    "# ].progress_apply(\n",
    "#     lambda row: (\n",
    "#         folium.Marker(\n",
    "#             location=[row.Master1Location.y, \n",
    "#                       row.Master1Location.x],\n",
    "#             popup=f\"{row.Name} ({row['Master 1 Location']})\",\n",
    "#             icon=folium.Icon(icon='male', prefix='fa', color='blue')\n",
    "            \n",
    "#         )\n",
    "#     ),\n",
    "#     axis=1\n",
    "# )\n",
    "# print(markers.shape)\n",
    "\n",
    "# markers = pandas.concat([markers, data_df[\n",
    "#     data_df.Master1Location.notna() & (data_df.Gender == \"F\")\n",
    "# ].progress_apply(\n",
    "#     lambda row: (\n",
    "#         folium.Marker(\n",
    "#             location=[row.Master1Location.y, \n",
    "#                       row.Master1Location.x],\n",
    "#             popup=f\"{row.Name} ({row['Master 1 Location']})\",\n",
    "#             icon=folium.Icon(icon='female', prefix='fa', color='red'),\n",
    "#         )\n",
    "#     ),\n",
    "#     axis=1\n",
    "# )])\n",
    "# print(markers.shape)"
   ]
  },
  {
   "cell_type": "code",
   "execution_count": null,
   "metadata": {},
   "outputs": [],
   "source": [
    "# for marker in markers:\n",
    "#     marker.add_to(m)"
   ]
  },
  {
   "cell_type": "markdown",
   "metadata": {},
   "source": [
    "### Marker Clusters"
   ]
  },
  {
   "cell_type": "code",
   "execution_count": null,
   "metadata": {},
   "outputs": [],
   "source": [
    "job_icon_lookup = {\n",
    "    \"farmworker\": \"leaf\",\n",
    "    \"farmer\": \"leaf\",\n",
    "    \"domestic\": \"home\",\n",
    "    \"servant\": \"home\",\n",
    "    \"sheperd\": \"leaf\",\n",
    "    \"baker's apprentice\": \"shopping-basket\",\n",
    "    \"farm labourer\": \"leaf\",\n",
    "    \"groomsman\": \"leaf\",\n",
    "    \"store servant\": \"shopping-basket\",\n",
    "    \"domestic and gardener\": \"home\",\n",
    "    \"gardener\": \"leaf\",\n",
    "    \"farm servant\": \"leaf\",\n",
    "    \"stableboy\": \"leaf\",\n",
    "    \"house servant\": \"home\",\n",
    "    \"blacksmith's apprentice\": \"shopping-basket\",\n",
    "    \"bakers apprentice\": \"shopping-basket\",\n",
    "}"
   ]
  },
  {
   "cell_type": "code",
   "execution_count": null,
   "metadata": {},
   "outputs": [],
   "source": [
    "data_df[\"Position1Icon\"] = data_df[\"Profession 1\"].progress_apply(\n",
    "    lambda job: (\n",
    "        job_icon_lookup.get(\n",
    "            job.lower().strip() if job else None,\n",
    "            \"male\")\n",
    "    )\n",
    ")"
   ]
  },
  {
   "cell_type": "code",
   "execution_count": null,
   "metadata": {},
   "outputs": [],
   "source": [
    "colour_lookup = {\n",
    "    \"m\": \"blue\",\n",
    "    \"f\": \"red\",\n",
    "}"
   ]
  },
  {
   "cell_type": "code",
   "execution_count": null,
   "metadata": {},
   "outputs": [],
   "source": [
    "def get_clusters(data_df, marker_options={}):\n",
    "    locations = data_df.apply(\n",
    "            lambda row: [row.Master1Location.y, row.Master1Location.x],\n",
    "            axis=1\n",
    "        ).values.tolist()\n",
    "\n",
    "    popups = data_df.apply(\n",
    "        lambda row: folium.map.Popup(\n",
    "            html= \"<br>\".join([\n",
    "                f\"<strong>{col.title()}</strong>: {row[col]}\"\n",
    "                for col in (\n",
    "                    'Name', 'Gender', 'DOB', 'Arrival Date', 'Ship',\n",
    "                    'Master 1 Name', 'Master 1 occupation', 'Master 1 Location',\n",
    "                    'Profession 1', 'Orphan', 'Any living relatives'\n",
    "                )\n",
    "                if row[col] != None and row[col] != \"\"\n",
    "            ]),\n",
    "            parse_html = False, max_width=200\n",
    "        ),\n",
    "        axis=1\n",
    "    ).values.tolist()\n",
    "\n",
    "    icons = data_df.apply(\n",
    "        lambda row: (\n",
    "            folium.Icon(\n",
    "                icon=row.Position1Icon,\n",
    "                prefix='fa',\n",
    "                color=colour_lookup.get(\n",
    "                    row.Gender.lower().strip() if row.Gender else None, \n",
    "                    \"beige\")\n",
    "            )\n",
    "        ),\n",
    "        axis=1\n",
    "    ).values.tolist()\n",
    "    \n",
    "    return folium.plugins.MarkerCluster(\n",
    "        locations, popups, icons,\n",
    "        **marker_options\n",
    "    )"
   ]
  },
  {
   "cell_type": "markdown",
   "metadata": {},
   "source": [
    "### Organising Clusters into Years "
   ]
  },
  {
   "cell_type": "code",
   "execution_count": null,
   "metadata": {},
   "outputs": [],
   "source": [
    "year_set = pandas.Series(\n",
    "    pandas.to_numeric(data_df['Arrival Date'].unique(), errors='coerce')\n",
    ").dropna().astype(int)"
   ]
  },
  {
   "cell_type": "code",
   "execution_count": null,
   "metadata": {},
   "outputs": [],
   "source": [
    "def get_year_clusters(cumulative=False, include_missing=False):\n",
    "    clusters = []\n",
    "    for year in sorted(year_set.values):\n",
    "        arrival_years = pandas.to_numeric(data_df[\"Arrival Date\"], errors='coerce')\n",
    "        \n",
    "        year_filter = arrival_years <= year if cumulative else arrival_years == year\n",
    "        df_filter = data_df.Master1Location.notna() & year_filter\n",
    "        \n",
    "        clusters += [\n",
    "            (str(year), get_clusters(data_df[df_filter], {\"name\": str(year)}))\n",
    "        ]\n",
    "    \n",
    "    if include_missing:\n",
    "        df_filter = (data_df.Master1Location.notna() & \n",
    "                 (~pandas.to_numeric(data_df[\"Arrival Date\"], errors='coerce').isin(year_set)))\n",
    "        clusters += [(\"?\", get_clusters(data_df[df_filter], {\"name\": \"?\"}))]\n",
    "    \n",
    "    return clusters"
   ]
  },
  {
   "cell_type": "markdown",
   "metadata": {},
   "source": [
    "#### All Entries"
   ]
  },
  {
   "cell_type": "code",
   "execution_count": null,
   "metadata": {},
   "outputs": [],
   "source": [
    "all_entries = get_clusters(\n",
    "    data_df[data_df.Master1Location.notna()],\n",
    "    {\n",
    "        \"name\": \"All Entries\",\n",
    "        \"overlay\": True,\n",
    "        \"show\": False\n",
    "    }\n",
    ")\n",
    "all_entries.add_to(m)"
   ]
  },
  {
   "cell_type": "markdown",
   "metadata": {},
   "source": [
    "#### Year Entries"
   ]
  },
  {
   "cell_type": "code",
   "execution_count": null,
   "metadata": {},
   "outputs": [],
   "source": [
    "for year, cluster in get_year_clusters(include_missing=True):\n",
    "    cluster.show = False\n",
    "    cluster.add_to(m)"
   ]
  },
  {
   "cell_type": "markdown",
   "metadata": {},
   "source": [
    "#### Story Map"
   ]
  },
  {
   "cell_type": "code",
   "execution_count": null,
   "metadata": {},
   "outputs": [],
   "source": [
    "story_map = folium.plugins.StoryMap(get_year_clusters(cumulative=True), pan_zoom=6, \n",
    "                                    name=\"Timeline\", overlay=True, control=True)\n",
    "story_map.add_to(m)"
   ]
  },
  {
   "cell_type": "markdown",
   "metadata": {},
   "source": [
    "### Image Overlay"
   ]
  },
  {
   "cell_type": "markdown",
   "metadata": {},
   "source": [
    "Using a tile server instead."
   ]
  },
  {
   "cell_type": "code",
   "execution_count": null,
   "metadata": {},
   "outputs": [],
   "source": [
    "#img_path = os.path.join(\"../dist/\", \"SA_18Century_Cropped.png\")"
   ]
  },
  {
   "cell_type": "code",
   "execution_count": null,
   "metadata": {},
   "outputs": [],
   "source": [
    "#correction = (-0.085, 0.115)"
   ]
  },
  {
   "cell_type": "code",
   "execution_count": null,
   "metadata": {},
   "outputs": [],
   "source": [
    "# img = folium.raster_layers.ImageOverlay(\n",
    "#     name='19th Century Map',\n",
    "#     image=img_path,\n",
    "#     bounds=[[-35.077 + correction[0], 16 + correction[1]], \n",
    "#             [[-30 - correction[0], 30 - correction[1]]]],\n",
    "#     interactive=True,\n",
    "#     cross_origin=False,\n",
    "#     zindex=1,\n",
    "# )\n",
    "\n",
    "# img.add_to(m)"
   ]
  },
  {
   "cell_type": "markdown",
   "metadata": {},
   "source": [
    "### Output"
   ]
  },
  {
   "cell_type": "code",
   "execution_count": null,
   "metadata": {},
   "outputs": [],
   "source": [
    "folium.LayerControl(collapsed=False).add_to(m)"
   ]
  },
  {
   "cell_type": "code",
   "execution_count": null,
   "metadata": {},
   "outputs": [],
   "source": [
    "output_path = '../dist/map_test_with_zoom_with_img.html'"
   ]
  },
  {
   "cell_type": "code",
   "execution_count": null,
   "metadata": {},
   "outputs": [],
   "source": [
    "m.save(output_path)"
   ]
  },
  {
   "cell_type": "code",
   "execution_count": null,
   "metadata": {},
   "outputs": [],
   "source": [
    "config = json.load(open(\"../creds/config.json\"))"
   ]
  },
  {
   "cell_type": "code",
   "execution_count": null,
   "metadata": {},
   "outputs": [],
   "source": [
    "object_name = config[\"output_object_name\"]\n",
    "bucket_name = config[\"output_bucket_name\"]\n",
    "s3_url = f\"s3://{bucket_name}/{object_name}\""
   ]
  },
  {
   "cell_type": "code",
   "execution_count": null,
   "metadata": {},
   "outputs": [],
   "source": [
    "s3.put_object(\n",
    "    ACL='public-read',\n",
    "    Body=open(output_path, 'rb'),\n",
    "    Bucket=bucket_name,\n",
    "    Key=object_name,\n",
    "    ContentType='text/html',\n",
    ")"
   ]
  },
  {
   "cell_type": "code",
   "execution_count": null,
   "metadata": {
    "scrolled": true
   },
   "outputs": [],
   "source": [
    "m"
   ]
  },
  {
   "cell_type": "code",
   "execution_count": null,
   "metadata": {},
   "outputs": [],
   "source": []
  }
 ],
 "metadata": {
  "kernelspec": {
   "display_name": "Python 3",
   "language": "python",
   "name": "python3"
  },
  "language_info": {
   "codemirror_mode": {
    "name": "ipython",
    "version": 3
   },
   "file_extension": ".py",
   "mimetype": "text/x-python",
   "name": "python",
   "nbconvert_exporter": "python",
   "pygments_lexer": "ipython3",
   "version": "3.7.5"
  }
 },
 "nbformat": 4,
 "nbformat_minor": 2
}
